{
  "nbformat": 4,
  "nbformat_minor": 0,
  "metadata": {
    "colab": {
      "provenance": [],
      "collapsed_sections": []
    },
    "kernelspec": {
      "name": "python3",
      "display_name": "Python 3"
    },
    "language_info": {
      "name": "python"
    }
  },
  "cells": [
    {
      "cell_type": "markdown",
      "source": [
        " Νικόλας Πηγαδάς  \n"
      ],
      "metadata": {
        "id": "2I8BDKgTb9QH"
      }
    },
    {
      "cell_type": "markdown",
      "source": [
        "#  Project Ανάλυσης Δεδομένων από Αισθητήρα Γλυκόζης\n"
      ],
      "metadata": {
        "id": "f1ofyuiF2paa"
      }
    },
    {
      "cell_type": "markdown",
      "source": [
        "### Σκοπός\n",
        "Σκοπός του project είναι η εφαρμογή κριτηρίων αξιολόγησης της διακριτικής ικανότητας αισθητήρων καταγραφής φυσιολογικών παραμέτρων."
      ],
      "metadata": {
        "id": "tNEwDcFsZBBx"
      }
    },
    {
      "cell_type": "markdown",
      "source": [
        "### Περιγραφή \n",
        "Χρησιμοποιούνται δεδομένα χρονοσειρών γλυκόζης ατόμων με σακχαρώδη διαβήτη τύπου 1, τα οποία προέκυψαν από την εφαρμογή υπολογιστικών πειραμάτων ανοικτού βρόχου στον προσομοιωτή UVa T1DM. Ο προσομοιωτής UVa T1DM είναι ένα υπολογιστικό περιβάλλον που διαθέτει εικονικούς ασθενείς (παιδιά, έφηβους, ενήλικες) με σακχαρώδη διαβήτη τύπου 1 και έχει λάβει έγκριση από τον Αμερικανικό Οργανισμό Φαρμάκων (FDA) για να χρησιμοποιείται ως υποκατάσταστο προκλινικών δοκιμών για την αξιολόγηση ελεγκτών γλυκόζης. Στο project αυτό αξιολογείται η ακρίβεια των αισθητήρων συνεχούς καταγραφής γλυκόζης, εφαρμόζοντας κατάλληλα κριτήρια αξιολόγησης.\n",
        "\n",
        "\n",
        "\n",
        "\n",
        "\n",
        "\n"
      ],
      "metadata": {
        "id": "BstdgbbZZjet"
      }
    },
    {
      "cell_type": "markdown",
      "source": [
        "### Δεδομένα\n",
        "Τα δεδομένα που δίνονται αντιστοιχούν σε περίπου 3.5 ημέρες και αποτελούνται από τρεις στήλες: (i) στη στήλη Α παρουσιάζεται ο χρόνος σε λεπτά, (ii) στη στήλη Β, οι τιμές γλυκόζης αίματος σε mg/dl, και (iii) στη στήλη C, οι καταγραφές γλυκόζης από αισθητήρα συνεχούς καταγραφής γλυκόζης σε mg/dl. Συνήθως οι αισθητήρες συνεχούς καταγραφής γλυκόζης παρουσιάζουν ανακρίβειες και αποκλίσεις από την γλυκόζη αναφοράς (γλυκόζη αίματος).  "
      ],
      "metadata": {
        "id": "CvseC13MZ9Ip"
      }
    },
    {
      "cell_type": "markdown",
      "source": [
        "## Βιβλιοθήκες"
      ],
      "metadata": {
        "id": "clVRgp9wd92R"
      }
    },
    {
      "cell_type": "code",
      "source": [
        "import pandas as pd\n",
        "import numpy as np\n",
        "import math \n",
        "from sklearn import metrics\n",
        "import matplotlib.pyplot as plt"
      ],
      "metadata": {
        "id": "uZliPWBfd9el"
      },
      "execution_count": null,
      "outputs": []
    },
    {
      "cell_type": "markdown",
      "source": [
        "## Ανάκτηση δεδομένων\n",
        "Κατ' αρχάς, τα δεδομένα ανακτήθηκαν από το αρχείο 'data.xlsm'.  \n",
        "Κατόπιν, κάνω mount το google colab για να χρησιμοποιηθεί σαν file system και να μπορέσω να διαβάσω τα δεδομένα:"
      ],
      "metadata": {
        "id": "Qoh85fml2oM0"
      }
    },
    {
      "cell_type": "code",
      "source": [
        "from google.colab import drive\n",
        "path = \"/gdrive/My Drive/biosensor_file/\"\n",
        "drive.mount('/gdrive')"
      ],
      "metadata": {
        "colab": {
          "base_uri": "https://localhost:8080/"
        },
        "id": "nw-CR6_Mcuj2",
        "outputId": "a2ea13ab-4cb2-4707-fb31-c98f976883fb"
      },
      "execution_count": null,
      "outputs": [
        {
          "output_type": "stream",
          "name": "stdout",
          "text": [
            "Mounted at /gdrive\n"
          ]
        }
      ]
    },
    {
      "cell_type": "markdown",
      "source": [
        "Ανάγνωση του αρχείου και έλεγχός του:"
      ],
      "metadata": {
        "id": "A4WvRSjndcXD"
      }
    },
    {
      "cell_type": "code",
      "source": [
        "glucose = pd.read_csv(path + \"data.csv\", sep = ';', decimal=',') \n",
        "glucose.head()"
      ],
      "metadata": {
        "colab": {
          "base_uri": "https://localhost:8080/",
          "height": 206
        },
        "id": "XcEcSf58diFf",
        "outputId": "0cf097f3-db7f-414c-e96f-36ec5f4eb16f"
      },
      "execution_count": null,
      "outputs": [
        {
          "output_type": "execute_result",
          "data": {
            "text/plain": [
              "   Time (min)  Blood Glucose (mg/dl)  Sensor Glucose Readings(mg/dl)\n",
              "0           1                 145.08                      150.489709\n",
              "1           2                 145.08                      150.079117\n",
              "2           3                 145.08                      149.668526\n",
              "3           4                 145.08                      149.257935\n",
              "4           5                 145.08                      148.847344"
            ],
            "text/html": [
              "\n",
              "  <div id=\"df-327cbb05-052d-4585-8e2a-0f01830bb4eb\">\n",
              "    <div class=\"colab-df-container\">\n",
              "      <div>\n",
              "<style scoped>\n",
              "    .dataframe tbody tr th:only-of-type {\n",
              "        vertical-align: middle;\n",
              "    }\n",
              "\n",
              "    .dataframe tbody tr th {\n",
              "        vertical-align: top;\n",
              "    }\n",
              "\n",
              "    .dataframe thead th {\n",
              "        text-align: right;\n",
              "    }\n",
              "</style>\n",
              "<table border=\"1\" class=\"dataframe\">\n",
              "  <thead>\n",
              "    <tr style=\"text-align: right;\">\n",
              "      <th></th>\n",
              "      <th>Time (min)</th>\n",
              "      <th>Blood Glucose (mg/dl)</th>\n",
              "      <th>Sensor Glucose Readings(mg/dl)</th>\n",
              "    </tr>\n",
              "  </thead>\n",
              "  <tbody>\n",
              "    <tr>\n",
              "      <th>0</th>\n",
              "      <td>1</td>\n",
              "      <td>145.08</td>\n",
              "      <td>150.489709</td>\n",
              "    </tr>\n",
              "    <tr>\n",
              "      <th>1</th>\n",
              "      <td>2</td>\n",
              "      <td>145.08</td>\n",
              "      <td>150.079117</td>\n",
              "    </tr>\n",
              "    <tr>\n",
              "      <th>2</th>\n",
              "      <td>3</td>\n",
              "      <td>145.08</td>\n",
              "      <td>149.668526</td>\n",
              "    </tr>\n",
              "    <tr>\n",
              "      <th>3</th>\n",
              "      <td>4</td>\n",
              "      <td>145.08</td>\n",
              "      <td>149.257935</td>\n",
              "    </tr>\n",
              "    <tr>\n",
              "      <th>4</th>\n",
              "      <td>5</td>\n",
              "      <td>145.08</td>\n",
              "      <td>148.847344</td>\n",
              "    </tr>\n",
              "  </tbody>\n",
              "</table>\n",
              "</div>\n",
              "      <button class=\"colab-df-convert\" onclick=\"convertToInteractive('df-327cbb05-052d-4585-8e2a-0f01830bb4eb')\"\n",
              "              title=\"Convert this dataframe to an interactive table.\"\n",
              "              style=\"display:none;\">\n",
              "        \n",
              "  <svg xmlns=\"http://www.w3.org/2000/svg\" height=\"24px\"viewBox=\"0 0 24 24\"\n",
              "       width=\"24px\">\n",
              "    <path d=\"M0 0h24v24H0V0z\" fill=\"none\"/>\n",
              "    <path d=\"M18.56 5.44l.94 2.06.94-2.06 2.06-.94-2.06-.94-.94-2.06-.94 2.06-2.06.94zm-11 1L8.5 8.5l.94-2.06 2.06-.94-2.06-.94L8.5 2.5l-.94 2.06-2.06.94zm10 10l.94 2.06.94-2.06 2.06-.94-2.06-.94-.94-2.06-.94 2.06-2.06.94z\"/><path d=\"M17.41 7.96l-1.37-1.37c-.4-.4-.92-.59-1.43-.59-.52 0-1.04.2-1.43.59L10.3 9.45l-7.72 7.72c-.78.78-.78 2.05 0 2.83L4 21.41c.39.39.9.59 1.41.59.51 0 1.02-.2 1.41-.59l7.78-7.78 2.81-2.81c.8-.78.8-2.07 0-2.86zM5.41 20L4 18.59l7.72-7.72 1.47 1.35L5.41 20z\"/>\n",
              "  </svg>\n",
              "      </button>\n",
              "      \n",
              "  <style>\n",
              "    .colab-df-container {\n",
              "      display:flex;\n",
              "      flex-wrap:wrap;\n",
              "      gap: 12px;\n",
              "    }\n",
              "\n",
              "    .colab-df-convert {\n",
              "      background-color: #E8F0FE;\n",
              "      border: none;\n",
              "      border-radius: 50%;\n",
              "      cursor: pointer;\n",
              "      display: none;\n",
              "      fill: #1967D2;\n",
              "      height: 32px;\n",
              "      padding: 0 0 0 0;\n",
              "      width: 32px;\n",
              "    }\n",
              "\n",
              "    .colab-df-convert:hover {\n",
              "      background-color: #E2EBFA;\n",
              "      box-shadow: 0px 1px 2px rgba(60, 64, 67, 0.3), 0px 1px 3px 1px rgba(60, 64, 67, 0.15);\n",
              "      fill: #174EA6;\n",
              "    }\n",
              "\n",
              "    [theme=dark] .colab-df-convert {\n",
              "      background-color: #3B4455;\n",
              "      fill: #D2E3FC;\n",
              "    }\n",
              "\n",
              "    [theme=dark] .colab-df-convert:hover {\n",
              "      background-color: #434B5C;\n",
              "      box-shadow: 0px 1px 3px 1px rgba(0, 0, 0, 0.15);\n",
              "      filter: drop-shadow(0px 1px 2px rgba(0, 0, 0, 0.3));\n",
              "      fill: #FFFFFF;\n",
              "    }\n",
              "  </style>\n",
              "\n",
              "      <script>\n",
              "        const buttonEl =\n",
              "          document.querySelector('#df-327cbb05-052d-4585-8e2a-0f01830bb4eb button.colab-df-convert');\n",
              "        buttonEl.style.display =\n",
              "          google.colab.kernel.accessAllowed ? 'block' : 'none';\n",
              "\n",
              "        async function convertToInteractive(key) {\n",
              "          const element = document.querySelector('#df-327cbb05-052d-4585-8e2a-0f01830bb4eb');\n",
              "          const dataTable =\n",
              "            await google.colab.kernel.invokeFunction('convertToInteractive',\n",
              "                                                     [key], {});\n",
              "          if (!dataTable) return;\n",
              "\n",
              "          const docLinkHtml = 'Like what you see? Visit the ' +\n",
              "            '<a target=\"_blank\" href=https://colab.research.google.com/notebooks/data_table.ipynb>data table notebook</a>'\n",
              "            + ' to learn more about interactive tables.';\n",
              "          element.innerHTML = '';\n",
              "          dataTable['output_type'] = 'display_data';\n",
              "          await google.colab.output.renderOutput(dataTable, element);\n",
              "          const docLink = document.createElement('div');\n",
              "          docLink.innerHTML = docLinkHtml;\n",
              "          element.appendChild(docLink);\n",
              "        }\n",
              "      </script>\n",
              "    </div>\n",
              "  </div>\n",
              "  "
            ]
          },
          "metadata": {},
          "execution_count": 3
        }
      ]
    },
    {
      "cell_type": "code",
      "source": [
        "glucose['Blood Glucose (mg/dl)'].describe()"
      ],
      "metadata": {
        "colab": {
          "base_uri": "https://localhost:8080/"
        },
        "id": "iqlP_RLMb4Co",
        "outputId": "175ec7ad-c750-4713-c0d8-202555e4734c"
      },
      "execution_count": null,
      "outputs": [
        {
          "output_type": "execute_result",
          "data": {
            "text/plain": [
              "count    5041.000000\n",
              "mean      121.855294\n",
              "std        36.867692\n",
              "min        55.442652\n",
              "25%        94.027319\n",
              "50%       126.816166\n",
              "75%       145.079948\n",
              "max       190.619747\n",
              "Name: Blood Glucose (mg/dl), dtype: float64"
            ]
          },
          "metadata": {},
          "execution_count": 4
        }
      ]
    },
    {
      "cell_type": "code",
      "source": [
        "glucose['Sensor Glucose Readings(mg/dl)'].describe()"
      ],
      "metadata": {
        "colab": {
          "base_uri": "https://localhost:8080/"
        },
        "id": "bsq_8NAKb-pB",
        "outputId": "636cfb6d-c0ba-408f-9d34-c49f36e7ca1d"
      },
      "execution_count": null,
      "outputs": [
        {
          "output_type": "execute_result",
          "data": {
            "text/plain": [
              "count    5041.000000\n",
              "mean      123.863692\n",
              "std        38.752359\n",
              "min        32.000000\n",
              "25%        94.395244\n",
              "50%       131.850756\n",
              "75%       150.959510\n",
              "max       201.796907\n",
              "Name: Sensor Glucose Readings(mg/dl), dtype: float64"
            ]
          },
          "metadata": {},
          "execution_count": 5
        }
      ]
    },
    {
      "cell_type": "markdown",
      "source": [
        "## Οπτική Ι \n",
        "_______________________________________________________________________\n",
        "Εφαρμογή μέσης απόλυτης σχετικής διαφοράς και συντελεστή συσχέτισης:\n",
        "* MARD\n",
        "* CC  \n",
        "\n",
        "για την αξιολόγηση κατά πόσο οι καταγραφές γλυκόζης από τον αισθητήρα προσεγγίζουν τις τιμές γλυκόζης αίματος στην περιοχή:\n",
        "* της υπογλυκαιμίας (<70 mg/dl)\n",
        "* της ευγλυκαιμίας \n",
        "* της υπεργλυκαιμίας (>180 mg/dl).\n"
      ],
      "metadata": {
        "id": "O8OkKew7fjd8"
      }
    },
    {
      "cell_type": "markdown",
      "source": [
        "### Σύστημα γενικά"
      ],
      "metadata": {
        "id": "VnklzWIhzFQx"
      }
    },
    {
      "cell_type": "markdown",
      "source": [
        "**MARD**(mean absolute relative difference/μέσης απόλυτης σχετικής διαφοράς):\n"
      ],
      "metadata": {
        "id": "Uo8D-jGStIUh"
      }
    },
    {
      "cell_type": "code",
      "source": [
        "ARD = np.empty(5041, dtype=object)\n",
        "sum_ARD = 0\n",
        "y_cgm_mean = 0\n",
        "y_ref_mean = 0\n",
        "\n",
        "for i in range(5041):\n",
        "   y_cgm_tk = glucose['Sensor Glucose Readings(mg/dl)'][i]\n",
        "   y_cgm_mean = y_cgm_mean + y_cgm_tk\n",
        "\n",
        "   y_ref_tk = glucose['Blood Glucose (mg/dl)'][i]\n",
        "   y_ref_mean = y_ref_mean + y_ref_tk \n",
        "\n",
        "   ARD[i] = 100 * abs(y_cgm_tk - y_ref_tk) / y_ref_tk\n",
        "   sum_ARD = sum_ARD + ARD[i]\n",
        "\n",
        "MARD = sum_ARD / 5041\n",
        "y_cgm_mean =  y_cgm_mean / 5041\n",
        "y_ref_mean = y_ref_mean / 5041\n",
        "\n",
        "print(\"MARD = \", MARD)\n",
        "print(\"y_cgm_mean =\", y_cgm_mean)\n",
        "print(\"y_ref_mean =\", y_ref_mean)"
      ],
      "metadata": {
        "id": "6jIqkLiKf0F-",
        "colab": {
          "base_uri": "https://localhost:8080/"
        },
        "outputId": "8184489a-a892-4935-d58c-ffabb1ef035e"
      },
      "execution_count": null,
      "outputs": [
        {
          "output_type": "stream",
          "name": "stdout",
          "text": [
            "MARD =  6.907752643840446\n",
            "y_cgm_mean = 123.86369248713554\n",
            "y_ref_mean = 121.85529448615578\n"
          ]
        }
      ]
    },
    {
      "cell_type": "markdown",
      "source": [
        "Παρατηρώ ότι η τιμή του MARD είναι <10%, οπότε το cgm(continuous glucose monitoring) σύστημα έχει ικανοποιητική επίδοση, αφού οι πραγματικές τιμές με τις μετρούμενες είναι αρκετά κοντά. Επίσης, οι μέσες τιμές υπολογίστηκαν αναλυτικά και επαληθεύονται από την εντολή describe που βρίσκεται παραπάνω.   \n",
        "Πηγή: https://www.ncbi.nlm.nih.gov/pmc/articles/PMC7189145/#:~:text=Reported%20as%20a%20percentage%2C%20MARD,to%20have%20good%20analytical%20performance"
      ],
      "metadata": {
        "id": "ihYrCF9vfCdF"
      }
    },
    {
      "cell_type": "markdown",
      "source": [
        "**CC**(correlation coefficient/συντελεστής συσχέτισης)\n",
        "\n",
        "\n",
        "\n"
      ],
      "metadata": {
        "id": "gczTawdEUVa9"
      }
    },
    {
      "cell_type": "code",
      "source": [
        "r_numerator_sum = 0\n",
        "r_denominator_sum1 = 0\n",
        "r_denominator_sum2 = 0\n",
        "\n",
        "for i in range(5041):\n",
        "  y_cgm_tk = glucose['Sensor Glucose Readings(mg/dl)'][i]\n",
        "  y_ref_tk = glucose['Blood Glucose (mg/dl)'][i]\n",
        "\n",
        "  r_numerator_sum = r_numerator_sum + (y_cgm_tk - y_cgm_mean) * (y_ref_tk - y_ref_mean)\n",
        "\n",
        "  r_denominator_sum1 = r_denominator_sum1 + (y_cgm_tk - y_cgm_mean) * (y_cgm_tk - y_cgm_mean)\n",
        "  r_denominator_sum2 = r_denominator_sum2 + (y_ref_tk - y_ref_mean) * (y_ref_tk - y_ref_mean)\n",
        "\n",
        "r = r_numerator_sum / math.sqrt(r_denominator_sum1 * r_denominator_sum2)\n",
        "print(r)"
      ],
      "metadata": {
        "colab": {
          "base_uri": "https://localhost:8080/"
        },
        "id": "BygojlHXUwoK",
        "outputId": "276cbe3a-7468-4285-9b6c-a71260adc32d"
      },
      "execution_count": null,
      "outputs": [
        {
          "output_type": "stream",
          "name": "stdout",
          "text": [
            "0.9711328705535384\n"
          ]
        }
      ]
    },
    {
      "cell_type": "markdown",
      "source": [
        "Και εδώ η τιμή είναι η επιθυμητή, καθώς αναμέναμε αποτέλεσμα μεταξύ 0.88-0.97. Τιμή σε αυτό το διάστημα σημαίνει ότι η διαφορά στις μετρήσεις δεν είναι εντελώς τυχαία, αλλά αφορά διάφορα φαινόμενα(transport/uptake effects).   \n",
        "Πηγή: https://ir.canterbury.ac.nz/bitstream/handle/10092/14540/Accuracy%20%20%20Performance%20of%20CGMs%20in%20Athletes%20-%20REVISED.pdf?sequence=2#:~:text=CGM%20devices%20agree%20very%20well,for%20the%20different%20sensor%20pairings  \n",
        "(σελίδα 2, προτελευταία πρόταση)"
      ],
      "metadata": {
        "id": "faK44aL3xAjA"
      }
    },
    {
      "cell_type": "markdown",
      "source": [
        "### Ενδιαφέρουσες περιοχές"
      ],
      "metadata": {
        "id": "QGo0_LM-yr8-"
      }
    },
    {
      "cell_type": "markdown",
      "source": [
        "Το σύστημα μετρήσεών μας φαίνεται αξιόπιστο. Mας ενδιαφέρουν, όμως, και οι τιμές στην περιοχή της υπογλυκαιμίας(<70 mg/dl), της ευγλυκαιμίας(70 mg/dl<...<180 mg/dl) και υπεργλυκαιμίας(>180 mg/dl) ξεχωριστά, καθώς έχουν μεγαλύτερη σημασία να γίνονται με ακριβή τρόπο οι μετρήσεις στα κρίσιμα όρια(<70 mg/dl, >180 mg/dl)."
      ],
      "metadata": {
        "id": "JOZwvy9agFlk"
      }
    },
    {
      "cell_type": "markdown",
      "source": [
        "### Περιοχή υπογλυκαιμίας(<70 mg/dl)"
      ],
      "metadata": {
        "id": "ckMUY8Cn2-2e"
      }
    },
    {
      "cell_type": "markdown",
      "source": [
        "**MARD**(mean absolute relative difference/μέσης απόλυτης σχετικής διαφοράς):\n",
        "\n",
        "\n",
        "\n",
        "\n"
      ],
      "metadata": {
        "id": "wmHa_fIo3JQU"
      }
    },
    {
      "cell_type": "code",
      "source": [
        "ARD = np.empty(5041, dtype=object)\n",
        "sum_ARD = 0\n",
        "y_cgm_mean = 0\n",
        "y_ref_mean = 0\n",
        "counter = 0\n",
        "\n",
        "for i in range(5041):\n",
        "   y_cgm_tk = glucose['Sensor Glucose Readings(mg/dl)'][i]\n",
        "   #y_cgm_mean = y_cgm_mean + y_cgm_tk\n",
        "\n",
        "   y_ref_tk = glucose['Blood Glucose (mg/dl)'][i]\n",
        "   #y_ref_mean = y_ref_mean + y_ref_tk \n",
        "\n",
        "   if y_cgm_tk < 70 or y_ref_tk < 70:\n",
        "      ARD[i] = 100 * abs(y_cgm_tk - y_ref_tk) / y_ref_tk\n",
        "      sum_ARD = sum_ARD + ARD[i]\n",
        "      y_ref_mean = y_ref_mean + y_ref_tk # den theloume oi mesoi oroi twn genikwn metrhsewn na ephreasoun\n",
        "      y_cgm_mean = y_cgm_mean + y_cgm_tk # ta apotelesmata gia sygkekrimenh perioxh, opote ypologizw ek neou toys mesous orous gia thn ekastote perioxh\n",
        "      counter = counter + 1\n",
        "\n",
        "MARD = sum_ARD / counter\n",
        "y_cgm_mean =  y_cgm_mean / counter\n",
        "y_ref_mean = y_ref_mean / counter\n",
        "\n",
        "print(\"MARD = \", MARD)\n",
        "print(\"y_cgm_mean =\", y_cgm_mean)\n",
        "print(\"y_ref_mean =\", y_ref_mean)"
      ],
      "metadata": {
        "colab": {
          "base_uri": "https://localhost:8080/"
        },
        "id": "fl6fz-YV2-V5",
        "outputId": "8eb00e5a-8d8f-4e1f-e2c9-29afbc43d655"
      },
      "execution_count": null,
      "outputs": [
        {
          "output_type": "stream",
          "name": "stdout",
          "text": [
            "MARD =  12.273836052889633\n",
            "y_cgm_mean = 61.97809658647861\n",
            "y_ref_mean = 61.95972146937926\n"
          ]
        }
      ]
    },
    {
      "cell_type": "markdown",
      "source": [
        "**CC**(correlation coefficient/συντελεστής συσχέτισης)\n"
      ],
      "metadata": {
        "id": "wTVnOqj73I2i"
      }
    },
    {
      "cell_type": "code",
      "source": [
        "r_numerator_sum = 0\n",
        "r_denominator_sum1 = 0\n",
        "r_denominator_sum2 = 0\n",
        "\n",
        "for i in range(5041):\n",
        "  y_cgm_tk = glucose['Sensor Glucose Readings(mg/dl)'][i]\n",
        "  y_ref_tk = glucose['Blood Glucose (mg/dl)'][i]\n",
        "\n",
        "\n",
        "  if y_cgm_tk < 70 or y_ref_tk < 70:\n",
        "     r_numerator_sum = r_numerator_sum + (y_cgm_tk - y_cgm_mean) * (y_ref_tk - y_ref_mean)\n",
        "     r_denominator_sum1 = r_denominator_sum1 + (y_cgm_tk - y_cgm_mean) * (y_cgm_tk - y_cgm_mean)\n",
        "     r_denominator_sum2 = r_denominator_sum2 + (y_ref_tk - y_ref_mean) * (y_ref_tk - y_ref_mean)\n",
        "\n",
        "r = r_numerator_sum / math.sqrt(r_denominator_sum1 * r_denominator_sum2)\n",
        "print(r)"
      ],
      "metadata": {
        "colab": {
          "base_uri": "https://localhost:8080/"
        },
        "id": "CVJLw91Y4Jpe",
        "outputId": "f8b97b79-39ce-4c8b-eb5c-187e3c45a5bd"
      },
      "execution_count": null,
      "outputs": [
        {
          "output_type": "stream",
          "name": "stdout",
          "text": [
            "0.4426118341135295\n"
          ]
        }
      ]
    },
    {
      "cell_type": "markdown",
      "source": [
        "Τα παραπάνω εξαγόμενα αποτελέσματα για την περιοχή της υπογλυκαιμίας δεν είναι καθόλου ικανοποιητικά. Απαιτείται άμεση δράση για αντικατάσταση/βελτίωση του cgm συστήματος, καθώς ο ασθενής τίθεται σε σοβαρό κίνδυνο. Τουλάχιστον, όμως, υπάρχει μερική γραμμικότητα μεταξύ των μετρήσεων(CC).\n",
        "\n",
        "Αξίζει να σημειωθεί ότι συμπεριέλαβα την περιοχή <70 mg/dl είτε για το cgm, είτε για το ref, γιατί ενδέχεται να υπάρχει μεγάλη απόκλιση στις τιμές και να βρίσκονται σε διαφορετική περιοχή."
      ],
      "metadata": {
        "id": "cY0OVu9r5Xgf"
      }
    },
    {
      "cell_type": "markdown",
      "source": [
        "### Περιοχή ευγλυκαιμίας(70 mg/dl<...<180 mg/dl)"
      ],
      "metadata": {
        "id": "v2qVYUaaEdyq"
      }
    },
    {
      "cell_type": "markdown",
      "source": [
        "**MARD**(mean absolute relative difference/μέσης απόλυτης σχετικής διαφοράς):\n"
      ],
      "metadata": {
        "id": "8oxZEfjpEsZT"
      }
    },
    {
      "cell_type": "code",
      "source": [
        "ARD = np.empty(5041, dtype=object)\n",
        "sum_ARD = 0\n",
        "y_cgm_mean = 0\n",
        "y_ref_mean = 0\n",
        "counter = 0\n",
        "\n",
        "for i in range(5041):\n",
        "   y_cgm_tk = glucose['Sensor Glucose Readings(mg/dl)'][i]\n",
        "   #y_cgm_mean = y_cgm_mean + y_cgm_tk\n",
        "\n",
        "   y_ref_tk = glucose['Blood Glucose (mg/dl)'][i]\n",
        "   #y_ref_mean = y_ref_mean + y_ref_tk \n",
        "\n",
        "   if (y_cgm_tk > 70 and y_cgm_tk < 180) or (y_ref_tk > 70 and y_ref_tk < 180):\n",
        "      ARD[i] = 100 * abs(y_cgm_tk - y_ref_tk) / y_ref_tk\n",
        "      sum_ARD = sum_ARD + ARD[i]\n",
        "      y_ref_mean = y_ref_mean + y_ref_tk # den theloume oi mesoi oroi twn genikwn metrhsewn na ephreasoun\n",
        "      y_cgm_mean = y_cgm_mean + y_cgm_tk # ta apotelesmata gia sygkekrimenh perioxh, opote ypologizw ek neou toys mesous orous gia thn ekastote perioxh\n",
        "      counter = counter + 1\n",
        "\n",
        "MARD = sum_ARD / counter\n",
        "y_cgm_mean =  y_cgm_mean / counter\n",
        "y_ref_mean = y_ref_mean / counter\n",
        "\n",
        "print(\"MARD = \", MARD)\n",
        "print(\"y_cgm_mean =\", y_cgm_mean)\n",
        "print(\"y_ref_mean =\", y_ref_mean)"
      ],
      "metadata": {
        "colab": {
          "base_uri": "https://localhost:8080/"
        },
        "id": "N0CBBeeGEwMR",
        "outputId": "188addc8-7af1-40b6-f98b-88e6413be135"
      },
      "execution_count": null,
      "outputs": [
        {
          "output_type": "stream",
          "name": "stdout",
          "text": [
            "MARD =  6.560279299975212\n",
            "y_cgm_mean = 132.14997825559018\n",
            "y_ref_mean = 129.59559617726424\n"
          ]
        }
      ]
    },
    {
      "cell_type": "markdown",
      "source": [
        "**CC**(correlation coefficient/συντελεστής συσχέτισης)\n"
      ],
      "metadata": {
        "id": "00FcHbmIFUWF"
      }
    },
    {
      "cell_type": "code",
      "source": [
        "r_numerator_sum = 0\n",
        "r_denominator_sum1 = 0\n",
        "r_denominator_sum2 = 0\n",
        "\n",
        "for i in range(5041):\n",
        "  y_cgm_tk = glucose['Sensor Glucose Readings(mg/dl)'][i]\n",
        "  y_ref_tk = glucose['Blood Glucose (mg/dl)'][i]\n",
        "\n",
        "\n",
        "  if (y_cgm_tk > 70 and y_cgm_tk < 180) or (y_ref_tk > 70 and y_ref_tk < 180):\n",
        "     r_numerator_sum = r_numerator_sum + (y_cgm_tk - y_cgm_mean) * (y_ref_tk - y_ref_mean)\n",
        "     r_denominator_sum1 = r_denominator_sum1 + (y_cgm_tk - y_cgm_mean) * (y_cgm_tk - y_cgm_mean)\n",
        "     r_denominator_sum2 = r_denominator_sum2 + (y_ref_tk - y_ref_mean) * (y_ref_tk - y_ref_mean)\n",
        "\n",
        "r = r_numerator_sum / math.sqrt(r_denominator_sum1 * r_denominator_sum2)\n",
        "print(r)"
      ],
      "metadata": {
        "colab": {
          "base_uri": "https://localhost:8080/"
        },
        "id": "uNfJArGoFW4D",
        "outputId": "6722a6ff-1d66-41a9-b09e-392ad8e2b81e"
      },
      "execution_count": null,
      "outputs": [
        {
          "output_type": "stream",
          "name": "stdout",
          "text": [
            "0.9491693573796371\n"
          ]
        }
      ]
    },
    {
      "cell_type": "markdown",
      "source": [
        "Τα παραπάνω εξαγόμενα αποτελέσματα για την περιοχή της ευγλυκαιμίας είναι πιο ακριβή από τις συνολικές μετρήσεις του cgm συστήματος στη μετρική MARD, αλλά όχι στην CC. Αν σε μια περιοχή θα ήμασταν πιο ελαστικοί να μην έχουμε τα πιο ακριβή αποτελέσματα, θα ήταν αυτή. Βέβαια, τα αποτελέσματα εδώ είναι πολύ ικανοποιητικά και τα μόνα πιστά στα πραγματικά. \n",
        "\n",
        "Αξίζει να σημειωθεί και εδώ ότι συμπεριέλαβα την περιοχή 70 mg/dl<...<180 mg/dl είτε για το cgm, είτε για το ref, γιατί ενδέχεται να υπάρχει μεγάλη απόκλιση στις τιμές και να βρίσκονται σε διαφορετική περιοχή."
      ],
      "metadata": {
        "id": "eR372t1HFZdL"
      }
    },
    {
      "cell_type": "markdown",
      "source": [
        "### Περιοχή υπεργλυκαιμίας(>180 mg/dl)"
      ],
      "metadata": {
        "id": "0K85THprJJMK"
      }
    },
    {
      "cell_type": "markdown",
      "source": [
        "**MARD**(mean absolute relative difference/μέσης απόλυτης σχετικής διαφοράς):\n"
      ],
      "metadata": {
        "id": "Bhei_mKVJV85"
      }
    },
    {
      "cell_type": "code",
      "source": [
        "ARD = np.empty(5041, dtype=object)\n",
        "sum_ARD = 0\n",
        "y_cgm_mean = 0\n",
        "y_ref_mean = 0\n",
        "counter = 0\n",
        "\n",
        "for i in range(5041):\n",
        "   y_cgm_tk = glucose['Sensor Glucose Readings(mg/dl)'][i]\n",
        "   #y_cgm_mean = y_cgm_mean + y_cgm_tk\n",
        "\n",
        "   y_ref_tk = glucose['Blood Glucose (mg/dl)'][i]\n",
        "   #y_ref_mean = y_ref_mean + y_ref_tk \n",
        "\n",
        "   if y_cgm_tk > 180 or y_ref_tk > 180:\n",
        "      ARD[i] = 100 * abs(y_cgm_tk - y_ref_tk) / y_ref_tk\n",
        "      sum_ARD = sum_ARD + ARD[i]\n",
        "      y_ref_mean = y_ref_mean + y_ref_tk # den theloume oi mesoi oroi twn genikwn metrhsewn na ephreasoun\n",
        "      y_cgm_mean = y_cgm_mean + y_cgm_tk # ta apotelesmata gia sygkekrimenh perioxh, opote ypologizw ek neou toys mesous orous gia thn ekastote perioxh\n",
        "      counter = counter + 1\n",
        "\n",
        "MARD = sum_ARD / counter\n",
        "y_cgm_mean =  y_cgm_mean / counter\n",
        "y_ref_mean = y_ref_mean / counter\n",
        "\n",
        "print(\"MARD = \", MARD)\n",
        "print(\"y_cgm_mean =\", y_cgm_mean)\n",
        "print(\"y_ref_mean =\", y_ref_mean)"
      ],
      "metadata": {
        "colab": {
          "base_uri": "https://localhost:8080/"
        },
        "id": "dEBdQ_ixJWnB",
        "outputId": "53c9c1cf-21bb-42b2-e0be-3d5a0872b019"
      },
      "execution_count": null,
      "outputs": [
        {
          "output_type": "stream",
          "name": "stdout",
          "text": [
            "MARD =  5.5494773881272135\n",
            "y_cgm_mean = 186.3857819728435\n",
            "y_ref_mean = 179.5469335546327\n"
          ]
        }
      ]
    },
    {
      "cell_type": "markdown",
      "source": [
        "**CC**(correlation coefficient/συντελεστής συσχέτισης)\n"
      ],
      "metadata": {
        "id": "HJM8jJVBJXJH"
      }
    },
    {
      "cell_type": "code",
      "source": [
        "r_numerator_sum = 0\n",
        "r_denominator_sum1 = 0\n",
        "r_denominator_sum2 = 0\n",
        "\n",
        "for i in range(5041):\n",
        "  y_cgm_tk = glucose['Sensor Glucose Readings(mg/dl)'][i]\n",
        "  y_ref_tk = glucose['Blood Glucose (mg/dl)'][i]\n",
        "\n",
        "\n",
        "  if y_cgm_tk > 180 or y_ref_tk > 180:\n",
        "     r_numerator_sum = r_numerator_sum + (y_cgm_tk - y_cgm_mean) * (y_ref_tk - y_ref_mean)\n",
        "     r_denominator_sum1 = r_denominator_sum1 + (y_cgm_tk - y_cgm_mean) * (y_cgm_tk - y_cgm_mean)\n",
        "     r_denominator_sum2 = r_denominator_sum2 + (y_ref_tk - y_ref_mean) * (y_ref_tk - y_ref_mean)\n",
        "\n",
        "r = r_numerator_sum / math.sqrt(r_denominator_sum1 * r_denominator_sum2)\n",
        "print(r)"
      ],
      "metadata": {
        "colab": {
          "base_uri": "https://localhost:8080/"
        },
        "id": "c8s_NdJkJZ5p",
        "outputId": "f736e01a-28e2-4510-8818-aef00fdd27d2"
      },
      "execution_count": null,
      "outputs": [
        {
          "output_type": "stream",
          "name": "stdout",
          "text": [
            "0.05986449228000937\n"
          ]
        }
      ]
    },
    {
      "cell_type": "markdown",
      "source": [
        "Τα παραπάνω εξαγόμενα αποτελέσματα για την περιοχή της υπεργλυκαιμίας φαίνονται εκ πρώτης όψεως σωστά, κοιτώντας την μετρική MARD. Εκ δεύτερης όψης, όμως, η μετρική CC φανερώνει ότι οι τιμές που βρίσκει ο μετρητής σε σχέση με τις πραγματικές είναι γραμμικά ασυσχέτιστες. Αυτό δεν μπορεί παρά να είναι προβληματικό, καθώς αναμένουμε από τον αισθητήρα να ακολουθεί πιστά τις αυξομειώσεις στις τιμές της γλυκόζης, ώστε να είναι ακριβής. Ακόμα, δηλαδή, και που βρίσκει κοντινές τιμές/την σωστή περιοχή, τις εξάγει είτε σε λάθος χρονική στιγμή ή ακόμα χειρότερα, τυχαία.\n",
        "\n",
        "Αξίζει να σημειωθεί και εδώ ότι συμπεριέλαβα την περιοχή >180 mg/dl είτε για το cgm, είτε για το ref, γιατί ενδέχεται να υπάρχει μεγάλη απόκλιση στις τιμές και να βρίσκονται σε διαφορετική περιοχή."
      ],
      "metadata": {
        "id": "Zr8cL1xmJaqH"
      }
    },
    {
      "cell_type": "markdown",
      "source": [
        "## Οπτική ΙΙ\n",
        "_______________________________________________________________________"
      ],
      "metadata": {
        "id": "7JziZka1SlhP"
      }
    },
    {
      "cell_type": "markdown",
      "source": [
        "Θεωρώντας ως υπογλυκαιμικά επεισόδια τις τιμές γλυκόζης που είναι μικρότερες από 70 mg/dl, γίνεται εφαρμογή της **ROC ανάλυσης** για την αξιολόγηση της ικανότητας του αισθητήρα συνεχούς καταγραφής γλυκόζης να ανιχνεύει τις υπογλυκαιμίες. Εφαρμόζοντας την τιμή 70 mg/dl ως κατώφλι γλυκόζης, οι χρονοσειρές γλυκόζης αντιμετωπίζονται ως δυαδικές και με αυτό τον τρόπο καθίσταται εφικτή η εφαρμογή της ROC ανάλυσης. \n",
        "\n",
        "Υπολογισμός δεικτών: \n",
        "* Ευαισθησία\n",
        "* Ειδικότητα\n",
        "* Θετική Προγνωστική Αξία\n",
        "* Αρνητική Προγνωστική Αξία\n",
        "* Ακρίβεια"
      ],
      "metadata": {
        "id": "9vsnJ7SuU6kT"
      }
    },
    {
      "cell_type": "code",
      "source": [
        "glucose.head()"
      ],
      "metadata": {
        "colab": {
          "base_uri": "https://localhost:8080/",
          "height": 206
        },
        "id": "0fFrSLRjZMXo",
        "outputId": "82d01951-492c-4945-f24f-9bc3b23362a1"
      },
      "execution_count": null,
      "outputs": [
        {
          "output_type": "execute_result",
          "data": {
            "text/plain": [
              "   Time (min)  Blood Glucose (mg/dl)  Sensor Glucose Readings(mg/dl)\n",
              "0           1                 145.08                      150.489709\n",
              "1           2                 145.08                      150.079117\n",
              "2           3                 145.08                      149.668526\n",
              "3           4                 145.08                      149.257935\n",
              "4           5                 145.08                      148.847344"
            ],
            "text/html": [
              "\n",
              "  <div id=\"df-65f51ead-a986-4c5f-813f-e7614fd3519d\">\n",
              "    <div class=\"colab-df-container\">\n",
              "      <div>\n",
              "<style scoped>\n",
              "    .dataframe tbody tr th:only-of-type {\n",
              "        vertical-align: middle;\n",
              "    }\n",
              "\n",
              "    .dataframe tbody tr th {\n",
              "        vertical-align: top;\n",
              "    }\n",
              "\n",
              "    .dataframe thead th {\n",
              "        text-align: right;\n",
              "    }\n",
              "</style>\n",
              "<table border=\"1\" class=\"dataframe\">\n",
              "  <thead>\n",
              "    <tr style=\"text-align: right;\">\n",
              "      <th></th>\n",
              "      <th>Time (min)</th>\n",
              "      <th>Blood Glucose (mg/dl)</th>\n",
              "      <th>Sensor Glucose Readings(mg/dl)</th>\n",
              "    </tr>\n",
              "  </thead>\n",
              "  <tbody>\n",
              "    <tr>\n",
              "      <th>0</th>\n",
              "      <td>1</td>\n",
              "      <td>145.08</td>\n",
              "      <td>150.489709</td>\n",
              "    </tr>\n",
              "    <tr>\n",
              "      <th>1</th>\n",
              "      <td>2</td>\n",
              "      <td>145.08</td>\n",
              "      <td>150.079117</td>\n",
              "    </tr>\n",
              "    <tr>\n",
              "      <th>2</th>\n",
              "      <td>3</td>\n",
              "      <td>145.08</td>\n",
              "      <td>149.668526</td>\n",
              "    </tr>\n",
              "    <tr>\n",
              "      <th>3</th>\n",
              "      <td>4</td>\n",
              "      <td>145.08</td>\n",
              "      <td>149.257935</td>\n",
              "    </tr>\n",
              "    <tr>\n",
              "      <th>4</th>\n",
              "      <td>5</td>\n",
              "      <td>145.08</td>\n",
              "      <td>148.847344</td>\n",
              "    </tr>\n",
              "  </tbody>\n",
              "</table>\n",
              "</div>\n",
              "      <button class=\"colab-df-convert\" onclick=\"convertToInteractive('df-65f51ead-a986-4c5f-813f-e7614fd3519d')\"\n",
              "              title=\"Convert this dataframe to an interactive table.\"\n",
              "              style=\"display:none;\">\n",
              "        \n",
              "  <svg xmlns=\"http://www.w3.org/2000/svg\" height=\"24px\"viewBox=\"0 0 24 24\"\n",
              "       width=\"24px\">\n",
              "    <path d=\"M0 0h24v24H0V0z\" fill=\"none\"/>\n",
              "    <path d=\"M18.56 5.44l.94 2.06.94-2.06 2.06-.94-2.06-.94-.94-2.06-.94 2.06-2.06.94zm-11 1L8.5 8.5l.94-2.06 2.06-.94-2.06-.94L8.5 2.5l-.94 2.06-2.06.94zm10 10l.94 2.06.94-2.06 2.06-.94-2.06-.94-.94-2.06-.94 2.06-2.06.94z\"/><path d=\"M17.41 7.96l-1.37-1.37c-.4-.4-.92-.59-1.43-.59-.52 0-1.04.2-1.43.59L10.3 9.45l-7.72 7.72c-.78.78-.78 2.05 0 2.83L4 21.41c.39.39.9.59 1.41.59.51 0 1.02-.2 1.41-.59l7.78-7.78 2.81-2.81c.8-.78.8-2.07 0-2.86zM5.41 20L4 18.59l7.72-7.72 1.47 1.35L5.41 20z\"/>\n",
              "  </svg>\n",
              "      </button>\n",
              "      \n",
              "  <style>\n",
              "    .colab-df-container {\n",
              "      display:flex;\n",
              "      flex-wrap:wrap;\n",
              "      gap: 12px;\n",
              "    }\n",
              "\n",
              "    .colab-df-convert {\n",
              "      background-color: #E8F0FE;\n",
              "      border: none;\n",
              "      border-radius: 50%;\n",
              "      cursor: pointer;\n",
              "      display: none;\n",
              "      fill: #1967D2;\n",
              "      height: 32px;\n",
              "      padding: 0 0 0 0;\n",
              "      width: 32px;\n",
              "    }\n",
              "\n",
              "    .colab-df-convert:hover {\n",
              "      background-color: #E2EBFA;\n",
              "      box-shadow: 0px 1px 2px rgba(60, 64, 67, 0.3), 0px 1px 3px 1px rgba(60, 64, 67, 0.15);\n",
              "      fill: #174EA6;\n",
              "    }\n",
              "\n",
              "    [theme=dark] .colab-df-convert {\n",
              "      background-color: #3B4455;\n",
              "      fill: #D2E3FC;\n",
              "    }\n",
              "\n",
              "    [theme=dark] .colab-df-convert:hover {\n",
              "      background-color: #434B5C;\n",
              "      box-shadow: 0px 1px 3px 1px rgba(0, 0, 0, 0.15);\n",
              "      filter: drop-shadow(0px 1px 2px rgba(0, 0, 0, 0.3));\n",
              "      fill: #FFFFFF;\n",
              "    }\n",
              "  </style>\n",
              "\n",
              "      <script>\n",
              "        const buttonEl =\n",
              "          document.querySelector('#df-65f51ead-a986-4c5f-813f-e7614fd3519d button.colab-df-convert');\n",
              "        buttonEl.style.display =\n",
              "          google.colab.kernel.accessAllowed ? 'block' : 'none';\n",
              "\n",
              "        async function convertToInteractive(key) {\n",
              "          const element = document.querySelector('#df-65f51ead-a986-4c5f-813f-e7614fd3519d');\n",
              "          const dataTable =\n",
              "            await google.colab.kernel.invokeFunction('convertToInteractive',\n",
              "                                                     [key], {});\n",
              "          if (!dataTable) return;\n",
              "\n",
              "          const docLinkHtml = 'Like what you see? Visit the ' +\n",
              "            '<a target=\"_blank\" href=https://colab.research.google.com/notebooks/data_table.ipynb>data table notebook</a>'\n",
              "            + ' to learn more about interactive tables.';\n",
              "          element.innerHTML = '';\n",
              "          dataTable['output_type'] = 'display_data';\n",
              "          await google.colab.output.renderOutput(dataTable, element);\n",
              "          const docLink = document.createElement('div');\n",
              "          docLink.innerHTML = docLinkHtml;\n",
              "          element.appendChild(docLink);\n",
              "        }\n",
              "      </script>\n",
              "    </div>\n",
              "  </div>\n",
              "  "
            ]
          },
          "metadata": {},
          "execution_count": 14
        }
      ]
    },
    {
      "cell_type": "code",
      "source": [
        "y = np.where(glucose['Blood Glucose (mg/dl)'] > 70, 0, 1)\n",
        "scores = np.where(glucose['Sensor Glucose Readings(mg/dl)'] > 70, 0, 1)\n",
        "print('y shape =', np.prod(y.shape))\n",
        "print('scores shape =', np.prod(scores.shape))\n",
        "\n",
        "\n",
        "#for i in range(5041):\n",
        "#  print(y[i])\n",
        "print(y)"
      ],
      "metadata": {
        "colab": {
          "base_uri": "https://localhost:8080/"
        },
        "id": "Tw1LWZDaZiSf",
        "outputId": "6ed4d141-1249-4f5c-f204-e2b5fcac257b"
      },
      "execution_count": null,
      "outputs": [
        {
          "output_type": "stream",
          "name": "stdout",
          "text": [
            "y shape = 5041\n",
            "scores shape = 5041\n",
            "[0 0 0 ... 0 0 0]\n"
          ]
        }
      ]
    },
    {
      "cell_type": "code",
      "source": [
        "#define metrics\n",
        "fpr, tpr, _ = metrics.roc_curve(y, scores)\n",
        "\n",
        "#create ROC curve\n",
        "plt.plot(fpr,tpr)\n",
        "plt.ylabel('True Positive Rate')\n",
        "plt.xlabel('False Positive Rate')\n",
        "plt.show()"
      ],
      "metadata": {
        "colab": {
          "base_uri": "https://localhost:8080/",
          "height": 279
        },
        "id": "H6pASsFoU8TP",
        "outputId": "a22e0df2-dcd8-4c8c-a0c0-31c04de17c69"
      },
      "execution_count": null,
      "outputs": [
        {
          "output_type": "display_data",
          "data": {
            "text/plain": [
              "<Figure size 432x288 with 1 Axes>"
            ],
            "image/png": "[encoded data removed]"
          },
          "metadata": {
            "needs_background": "light"
          }
        }
      ]
    },
    {
      "cell_type": "markdown",
      "source": [
        "Η ROC καμπύλη φανερώνει ότι οι μετρήσεις μας κοντά στην περιοχή της υπογλυκαιμίας έχουν την τάση να είναι σωστές, όσον αφορά την ταξινόμηση στην σωστή περιοχή, υπογλυκαιμίας ή ευγλυκαιμίας. Όμως, για ένα cgm σύστημα, τα αποτελέσματα αυτά δεν είναι επαρκώς ακριβή αφού σε επικίνδυνα πολλές περιπτώσεις μπερδεύει  τις περιοχές υπογλυκαιμίας και ευγλυκαιμίας."
      ],
      "metadata": {
        "id": "-FQda1wwpbPx"
      }
    },
    {
      "cell_type": "code",
      "source": [
        "TP = 0 # true positive (y[i] == scores[i] == 1)\n",
        "TN = 0 # true negative (y[i] == scores[i] == 0)\n",
        "FP = 0 # false positive (y[i] == 0, scores[i] == 1)\n",
        "FN = 0 # false negative (y[i] == 1, scores[i] == 0)\n",
        "\n",
        "for i in range(5041):\n",
        "  if y[i] == 1 and scores[i] == 1:\n",
        "    TP = TP + 1\n",
        "  if y[i] == 0 and scores[i] == 0:\n",
        "    TN = TN + 1\n",
        "  if y[i] == 0 and scores[i] == 1:\n",
        "    FP = FP + 1\n",
        "  if y[i] == 1 and scores[i] == 0:\n",
        "    FN = FN + 1\n",
        "\n",
        "print('TP = ', TP)\n",
        "print('TN = ', TN)\n",
        "print('FP = ', FP)\n",
        "print('FN = ', FN)\n",
        "print('sum = ', TP + TN + FP +FN)"
      ],
      "metadata": {
        "colab": {
          "base_uri": "https://localhost:8080/"
        },
        "id": "MRps13f1tbG-",
        "outputId": "35f6dafd-c684-4283-c7f4-19a84e716573"
      },
      "execution_count": null,
      "outputs": [
        {
          "output_type": "stream",
          "name": "stdout",
          "text": [
            "TP =  669\n",
            "TN =  4155\n",
            "FP =  49\n",
            "FN =  168\n",
            "sum =  5041\n"
          ]
        }
      ]
    },
    {
      "cell_type": "markdown",
      "source": [
        "#### Ευαισθησία/Sensitivity (Recall)"
      ],
      "metadata": {
        "id": "yGlyRYPSjmz-"
      }
    },
    {
      "cell_type": "code",
      "source": [
        "Sensitivity = (TP)/(TP + FN)\n",
        "print('Sensitivity = ', Sensitivity)"
      ],
      "metadata": {
        "colab": {
          "base_uri": "https://localhost:8080/"
        },
        "id": "MT1U0eDfjsmw",
        "outputId": "618a2a26-9ebe-4711-fd0c-76b372e493be"
      },
      "execution_count": null,
      "outputs": [
        {
          "output_type": "stream",
          "name": "stdout",
          "text": [
            "Sensitivity =  0.7992831541218638\n"
          ]
        }
      ]
    },
    {
      "cell_type": "markdown",
      "source": [
        "#### Ειδικότητα/Specificity"
      ],
      "metadata": {
        "id": "G-cIv6PkjtFg"
      }
    },
    {
      "cell_type": "code",
      "source": [
        "Specificity = (TN)/(TN + FP)\n",
        "print('Specificity = ', Specificity)"
      ],
      "metadata": {
        "colab": {
          "base_uri": "https://localhost:8080/"
        },
        "id": "I3T2EM-Jj40j",
        "outputId": "f721fc13-2f26-4dde-cfa2-37b1fabf6b43"
      },
      "execution_count": null,
      "outputs": [
        {
          "output_type": "stream",
          "name": "stdout",
          "text": [
            "Specificity =  0.9883444338725024\n"
          ]
        }
      ]
    },
    {
      "cell_type": "markdown",
      "source": [
        "#### Θετική Προγνωστική Αξία/Positive Predictive Value"
      ],
      "metadata": {
        "id": "UlG9ysWij9_z"
      }
    },
    {
      "cell_type": "code",
      "source": [
        "PPV = TP / (TP + FP)\n",
        "print('PPV = ', PPV)"
      ],
      "metadata": {
        "colab": {
          "base_uri": "https://localhost:8080/"
        },
        "id": "p-dvDRVmj_jA",
        "outputId": "ccf13bf6-e343-4991-84ea-02edc83fdac6"
      },
      "execution_count": null,
      "outputs": [
        {
          "output_type": "stream",
          "name": "stdout",
          "text": [
            "PPV =  0.9317548746518106\n"
          ]
        }
      ]
    },
    {
      "cell_type": "markdown",
      "source": [
        "#### Αρνητική Προγνωστική Αξία/Negative Predictive Value"
      ],
      "metadata": {
        "id": "CU4I-BTrkcIc"
      }
    },
    {
      "cell_type": "code",
      "source": [
        "NPV = TN / (TN + FN)\n",
        "print('NPV = ', NPV)"
      ],
      "metadata": {
        "colab": {
          "base_uri": "https://localhost:8080/"
        },
        "id": "0LNEfaaxkdtO",
        "outputId": "13628cd9-9430-4cf2-c7b7-84d61a0c4aa0"
      },
      "execution_count": null,
      "outputs": [
        {
          "output_type": "stream",
          "name": "stdout",
          "text": [
            "NPV =  0.9611380985426787\n"
          ]
        }
      ]
    },
    {
      "cell_type": "markdown",
      "source": [
        "#### Ακρίβεια"
      ],
      "metadata": {
        "id": "nTHikA3lkg5Z"
      }
    },
    {
      "cell_type": "code",
      "source": [
        "Accuracy = (TP + TN) / (TP + TN + FP + FN)\n",
        "print('Accuracy = ',  Accuracy)"
      ],
      "metadata": {
        "colab": {
          "base_uri": "https://localhost:8080/"
        },
        "id": "HzbWtrCqkiiF",
        "outputId": "e5b154ef-b167-41f4-eb2a-cdfdd5810cfc"
      },
      "execution_count": null,
      "outputs": [
        {
          "output_type": "stream",
          "name": "stdout",
          "text": [
            "Accuracy =  0.9569529855187463\n"
          ]
        }
      ]
    },
    {
      "cell_type": "markdown",
      "source": [
        "## Οπτική ΙΙΙ\n",
        "_______________________________________________________________________"
      ],
      "metadata": {
        "id": "ZhV5RIpmSp3o"
      }
    },
    {
      "cell_type": "markdown",
      "source": [
        "Ομοίως, αξιολογείται η ικανότητα του αισθητήρα συνεχούς καταγραφής γλυκόζης να ανιχνεύει τις υπεργλυκαιμίες που αντιστοιχούν σε τιμές γλυκόζης μεγαλύτερες από 180 mg/dl. \n",
        "\n",
        "Υπολογισμός δεικτών: \n",
        "* Ευαισθησία\n",
        "* Ειδικότητα\n",
        "* Θετική Προγνωστική Αξία\n",
        "* Αρνητική Προγνωστική Αξία\n",
        "* Ακρίβεια"
      ],
      "metadata": {
        "id": "5n8wlbdGU9oI"
      }
    },
    {
      "cell_type": "code",
      "source": [
        "glucose.head()"
      ],
      "metadata": {
        "colab": {
          "base_uri": "https://localhost:8080/",
          "height": 206
        },
        "id": "ga_rTkxSU-g5",
        "outputId": "fd3d8d19-6a94-4817-86bb-4304b09ddd03"
      },
      "execution_count": null,
      "outputs": [
        {
          "output_type": "execute_result",
          "data": {
            "text/plain": [
              "   Time (min)  Blood Glucose (mg/dl)  Sensor Glucose Readings(mg/dl)\n",
              "0           1                 145.08                      150.489709\n",
              "1           2                 145.08                      150.079117\n",
              "2           3                 145.08                      149.668526\n",
              "3           4                 145.08                      149.257935\n",
              "4           5                 145.08                      148.847344"
            ],
            "text/html": [
              "\n",
              "  <div id=\"df-ddcb6dc9-ab3f-4469-901c-357f48880ccc\">\n",
              "    <div class=\"colab-df-container\">\n",
              "      <div>\n",
              "<style scoped>\n",
              "    .dataframe tbody tr th:only-of-type {\n",
              "        vertical-align: middle;\n",
              "    }\n",
              "\n",
              "    .dataframe tbody tr th {\n",
              "        vertical-align: top;\n",
              "    }\n",
              "\n",
              "    .dataframe thead th {\n",
              "        text-align: right;\n",
              "    }\n",
              "</style>\n",
              "<table border=\"1\" class=\"dataframe\">\n",
              "  <thead>\n",
              "    <tr style=\"text-align: right;\">\n",
              "      <th></th>\n",
              "      <th>Time (min)</th>\n",
              "      <th>Blood Glucose (mg/dl)</th>\n",
              "      <th>Sensor Glucose Readings(mg/dl)</th>\n",
              "    </tr>\n",
              "  </thead>\n",
              "  <tbody>\n",
              "    <tr>\n",
              "      <th>0</th>\n",
              "      <td>1</td>\n",
              "      <td>145.08</td>\n",
              "      <td>150.489709</td>\n",
              "    </tr>\n",
              "    <tr>\n",
              "      <th>1</th>\n",
              "      <td>2</td>\n",
              "      <td>145.08</td>\n",
              "      <td>150.079117</td>\n",
              "    </tr>\n",
              "    <tr>\n",
              "      <th>2</th>\n",
              "      <td>3</td>\n",
              "      <td>145.08</td>\n",
              "      <td>149.668526</td>\n",
              "    </tr>\n",
              "    <tr>\n",
              "      <th>3</th>\n",
              "      <td>4</td>\n",
              "      <td>145.08</td>\n",
              "      <td>149.257935</td>\n",
              "    </tr>\n",
              "    <tr>\n",
              "      <th>4</th>\n",
              "      <td>5</td>\n",
              "      <td>145.08</td>\n",
              "      <td>148.847344</td>\n",
              "    </tr>\n",
              "  </tbody>\n",
              "</table>\n",
              "</div>\n",
              "      <button class=\"colab-df-convert\" onclick=\"convertToInteractive('df-ddcb6dc9-ab3f-4469-901c-357f48880ccc')\"\n",
              "              title=\"Convert this dataframe to an interactive table.\"\n",
              "              style=\"display:none;\">\n",
              "        \n",
              "  <svg xmlns=\"http://www.w3.org/2000/svg\" height=\"24px\"viewBox=\"0 0 24 24\"\n",
              "       width=\"24px\">\n",
              "    <path d=\"M0 0h24v24H0V0z\" fill=\"none\"/>\n",
              "    <path d=\"M18.56 5.44l.94 2.06.94-2.06 2.06-.94-2.06-.94-.94-2.06-.94 2.06-2.06.94zm-11 1L8.5 8.5l.94-2.06 2.06-.94-2.06-.94L8.5 2.5l-.94 2.06-2.06.94zm10 10l.94 2.06.94-2.06 2.06-.94-2.06-.94-.94-2.06-.94 2.06-2.06.94z\"/><path d=\"M17.41 7.96l-1.37-1.37c-.4-.4-.92-.59-1.43-.59-.52 0-1.04.2-1.43.59L10.3 9.45l-7.72 7.72c-.78.78-.78 2.05 0 2.83L4 21.41c.39.39.9.59 1.41.59.51 0 1.02-.2 1.41-.59l7.78-7.78 2.81-2.81c.8-.78.8-2.07 0-2.86zM5.41 20L4 18.59l7.72-7.72 1.47 1.35L5.41 20z\"/>\n",
              "  </svg>\n",
              "      </button>\n",
              "      \n",
              "  <style>\n",
              "    .colab-df-container {\n",
              "      display:flex;\n",
              "      flex-wrap:wrap;\n",
              "      gap: 12px;\n",
              "    }\n",
              "\n",
              "    .colab-df-convert {\n",
              "      background-color: #E8F0FE;\n",
              "      border: none;\n",
              "      border-radius: 50%;\n",
              "      cursor: pointer;\n",
              "      display: none;\n",
              "      fill: #1967D2;\n",
              "      height: 32px;\n",
              "      padding: 0 0 0 0;\n",
              "      width: 32px;\n",
              "    }\n",
              "\n",
              "    .colab-df-convert:hover {\n",
              "      background-color: #E2EBFA;\n",
              "      box-shadow: 0px 1px 2px rgba(60, 64, 67, 0.3), 0px 1px 3px 1px rgba(60, 64, 67, 0.15);\n",
              "      fill: #174EA6;\n",
              "    }\n",
              "\n",
              "    [theme=dark] .colab-df-convert {\n",
              "      background-color: #3B4455;\n",
              "      fill: #D2E3FC;\n",
              "    }\n",
              "\n",
              "    [theme=dark] .colab-df-convert:hover {\n",
              "      background-color: #434B5C;\n",
              "      box-shadow: 0px 1px 3px 1px rgba(0, 0, 0, 0.15);\n",
              "      filter: drop-shadow(0px 1px 2px rgba(0, 0, 0, 0.3));\n",
              "      fill: #FFFFFF;\n",
              "    }\n",
              "  </style>\n",
              "\n",
              "      <script>\n",
              "        const buttonEl =\n",
              "          document.querySelector('#df-ddcb6dc9-ab3f-4469-901c-357f48880ccc button.colab-df-convert');\n",
              "        buttonEl.style.display =\n",
              "          google.colab.kernel.accessAllowed ? 'block' : 'none';\n",
              "\n",
              "        async function convertToInteractive(key) {\n",
              "          const element = document.querySelector('#df-ddcb6dc9-ab3f-4469-901c-357f48880ccc');\n",
              "          const dataTable =\n",
              "            await google.colab.kernel.invokeFunction('convertToInteractive',\n",
              "                                                     [key], {});\n",
              "          if (!dataTable) return;\n",
              "\n",
              "          const docLinkHtml = 'Like what you see? Visit the ' +\n",
              "            '<a target=\"_blank\" href=https://colab.research.google.com/notebooks/data_table.ipynb>data table notebook</a>'\n",
              "            + ' to learn more about interactive tables.';\n",
              "          element.innerHTML = '';\n",
              "          dataTable['output_type'] = 'display_data';\n",
              "          await google.colab.output.renderOutput(dataTable, element);\n",
              "          const docLink = document.createElement('div');\n",
              "          docLink.innerHTML = docLinkHtml;\n",
              "          element.appendChild(docLink);\n",
              "        }\n",
              "      </script>\n",
              "    </div>\n",
              "  </div>\n",
              "  "
            ]
          },
          "metadata": {},
          "execution_count": 23
        }
      ]
    },
    {
      "cell_type": "code",
      "source": [
        "y2 = np.where(glucose['Blood Glucose (mg/dl)'] < 180, 0, 1)\n",
        "scores2 = np.where(glucose['Sensor Glucose Readings(mg/dl)'] < 180, 0, 1)\n",
        "print('y shape =', np.prod(y2.shape))\n",
        "print('scores shape =', np.prod(scores2.shape))\n",
        "\n",
        "\n",
        "#for i in range(5041):\n",
        "#  print(y[i])\n",
        "print(y2)"
      ],
      "metadata": {
        "colab": {
          "base_uri": "https://localhost:8080/"
        },
        "id": "tVbupcdcRbqF",
        "outputId": "db60dd15-baa1-4bad-9dd1-ae6116fee89d"
      },
      "execution_count": null,
      "outputs": [
        {
          "output_type": "stream",
          "name": "stdout",
          "text": [
            "y shape = 5041\n",
            "scores shape = 5041\n",
            "[0 0 0 ... 0 0 0]\n"
          ]
        }
      ]
    },
    {
      "cell_type": "code",
      "source": [
        "#define metrics\n",
        "fpr2, tpr2, _ = metrics.roc_curve(y2,  scores2)\n",
        "\n",
        "#create ROC curve\n",
        "plt.plot(fpr2,tpr2)\n",
        "plt.ylabel('True Positive Rate')\n",
        "plt.xlabel('False Positive Rate')\n",
        "plt.show()"
      ],
      "metadata": {
        "colab": {
          "base_uri": "https://localhost:8080/",
          "height": 279
        },
        "id": "zwEZmucnRtID",
        "outputId": "a139b43f-8615-4563-b86f-f0121df0e562"
      },
      "execution_count": null,
      "outputs": [
        {
          "output_type": "display_data",
          "data": {
            "text/plain": [
              "<Figure size 432x288 with 1 Axes>"
            ],
            "image/png": "[encoded data removed]"
          },
          "metadata": {
            "needs_background": "light"
          }
        }
      ]
    },
    {
      "cell_type": "markdown",
      "source": [
        "Η ROC καμπύλη φανερώνει ότι οι μετρήσεις μας κοντά στην περιοχή της υπεργλυκαιμίας έχουν την τάση να είναι σωστές, όσων αφορά την ταξινόμηση στην σωστή περιοχή, υπεργλυκαιμίας ή ευγλυκαιμίας. Όμως, για ένα cgm σύστημα, τα αποτελέσματα αυτά δεν είναι επαρκώς ακριβή αφού σε επικίνδυνα πολλές περιπτώσεις μπερδεύει  τις περιοχές υπεργλυκαιμίας και ευγλυκαιμίας."
      ],
      "metadata": {
        "id": "rhKg-9cVcqhq"
      }
    },
    {
      "cell_type": "code",
      "source": [
        "TP = 0 # true positive (y[i] == scores[i] == 1)\n",
        "TN = 0 # true negative (y[i] == scores[i] == 0)\n",
        "FP = 0 # false positive (y[i] == 0, scores[i] == 1)\n",
        "FN = 0 # false negative (y[i] == 1, scores[i] == 0)\n",
        "\n",
        "for i in range(5041):\n",
        "  if y2[i] == 1 and scores2[i] == 1:\n",
        "    TP = TP + 1\n",
        "  if y2[i] == 0 and scores2[i] == 0:\n",
        "    TN = TN + 1\n",
        "  if y2[i] == 0 and scores2[i] == 1:\n",
        "    FP = FP + 1\n",
        "  if y2[i] == 1 and scores2[i] == 0:\n",
        "    FN = FN + 1\n",
        "\n",
        "print('TP = ', TP)\n",
        "print('TN = ', TN)\n",
        "print('FP = ', FP)\n",
        "print('FN = ', FN)\n",
        "print('sum = ', TP + TN + FP +FN)"
      ],
      "metadata": {
        "colab": {
          "base_uri": "https://localhost:8080/"
        },
        "id": "ZvoIJQOYR1V1",
        "outputId": "8a0e9511-21b1-4d12-e71c-226a0ce28c79"
      },
      "execution_count": null,
      "outputs": [
        {
          "output_type": "stream",
          "name": "stdout",
          "text": [
            "TP =  136\n",
            "TN =  4728\n",
            "FP =  139\n",
            "FN =  38\n",
            "sum =  5041\n"
          ]
        }
      ]
    },
    {
      "cell_type": "markdown",
      "source": [
        "#### Ευαισθησία/Sensitivity (Recall)"
      ],
      "metadata": {
        "id": "RpBwYtunR78g"
      }
    },
    {
      "cell_type": "code",
      "source": [
        "Sensitivity = (TP)/(TP + FN)\n",
        "print('Sensitivity = ', Sensitivity)"
      ],
      "metadata": {
        "colab": {
          "base_uri": "https://localhost:8080/"
        },
        "id": "o9b7WOF3SAVg",
        "outputId": "5bc63244-aa90-49ce-d7aa-e0c0f711c20d"
      },
      "execution_count": null,
      "outputs": [
        {
          "output_type": "stream",
          "name": "stdout",
          "text": [
            "Sensitivity =  0.7816091954022989\n"
          ]
        }
      ]
    },
    {
      "cell_type": "markdown",
      "source": [
        "#### Ειδικότητα/Specificity"
      ],
      "metadata": {
        "id": "Vb9qfjk-SGXN"
      }
    },
    {
      "cell_type": "code",
      "source": [
        "Specificity = (TN)/(TN + FP)\n",
        "print('Specificity = ', Specificity)"
      ],
      "metadata": {
        "colab": {
          "base_uri": "https://localhost:8080/"
        },
        "id": "SOwiDDXYSVF7",
        "outputId": "d030b2b6-40fa-4b90-cf40-487664e55d61"
      },
      "execution_count": null,
      "outputs": [
        {
          "output_type": "stream",
          "name": "stdout",
          "text": [
            "Specificity =  0.9714403123073762\n"
          ]
        }
      ]
    },
    {
      "cell_type": "markdown",
      "source": [
        "#### Θετική Προγνωστική Αξία/Positive Predictive Value"
      ],
      "metadata": {
        "id": "-Tudi5z-SXkh"
      }
    },
    {
      "cell_type": "code",
      "source": [
        "PPV = TP/(TP + FP)\n",
        "print('PPV = ', PPV)"
      ],
      "metadata": {
        "colab": {
          "base_uri": "https://localhost:8080/"
        },
        "id": "klGF3G6ISW9_",
        "outputId": "754cb3bc-14d1-41e9-a039-a69b829cdf85"
      },
      "execution_count": null,
      "outputs": [
        {
          "output_type": "stream",
          "name": "stdout",
          "text": [
            "PPV =  0.49454545454545457\n"
          ]
        }
      ]
    },
    {
      "cell_type": "markdown",
      "source": [
        "#### Αρνητική Προγνωστική Αξία/Negative Predictive Value"
      ],
      "metadata": {
        "id": "KHcc4WaqSY_p"
      }
    },
    {
      "cell_type": "code",
      "source": [
        "NPV = TN/(TN + FN)\n",
        "print('NPV = ', NPV)"
      ],
      "metadata": {
        "colab": {
          "base_uri": "https://localhost:8080/"
        },
        "id": "I0sI6AY1SZpm",
        "outputId": "11612ba1-f907-48fd-cc29-ad5f4e35a443"
      },
      "execution_count": null,
      "outputs": [
        {
          "output_type": "stream",
          "name": "stdout",
          "text": [
            "NPV =  0.9920268569030634\n"
          ]
        }
      ]
    },
    {
      "cell_type": "markdown",
      "source": [
        "#### Ακρίβεια"
      ],
      "metadata": {
        "id": "6knCElXXSa0U"
      }
    },
    {
      "cell_type": "code",
      "source": [
        "Accuracy = (TP + TN)/(TP + TN + FP + FN)\n",
        "print('Accuracy = ',  Accuracy)"
      ],
      "metadata": {
        "colab": {
          "base_uri": "https://localhost:8080/"
        },
        "id": "5QVDYXzwSbW-",
        "outputId": "4c158802-b95c-4cd8-cf6d-e012ab6b2c6e"
      },
      "execution_count": null,
      "outputs": [
        {
          "output_type": "stream",
          "name": "stdout",
          "text": [
            "Accuracy =  0.9648879190636779\n"
          ]
        }
      ]
    },
    {
      "cell_type": "markdown",
      "source": [
        "## Ανασκόπηση/Συμπεράσματα\n",
        "_______________________________________________________________________"
      ],
      "metadata": {
        "id": "8kx5tEaNS4HF"
      }
    },
    {
      "cell_type": "markdown",
      "source": [
        "Συγκεντρωτικά τα αποτελέσματα της ερώτησης 1:"
      ],
      "metadata": {
        "id": "g_jfonkQXxbF"
      }
    },
    {
      "cell_type": "markdown",
      "source": [
        "Glucose Range | MARD | CC\n",
        "--- | --- | ---\n",
        "**Όλες οι τιμές/Αξιολόγηση συστήματος** | `6.9078` | `0.9711`\n",
        "**Υπογλυκαιμία** | `12.2738` | `0.4426`\n",
        "**Ευγλυκαιμία** | `6.5603` | `0.9492`\n",
        "**Υπεργλυκαιμία** | `5.5495` |  `0.0599`\n"
      ],
      "metadata": {
        "id": "H7VEegA9T7HN"
      }
    },
    {
      "cell_type": "markdown",
      "source": [
        "#### Σχολιασμός μετρικών MARD και CC:"
      ],
      "metadata": {
        "id": "hEpxMZVhfMGR"
      }
    },
    {
      "cell_type": "markdown",
      "source": [
        "Μέσω της ανάλυσης αυτής, αναδείχθηκε το γεγονός ότι ένα cgm σύστημα ενδέχεται συνολικά να βγάζει αποτελέσματα που να φαίνονται ακριβή, αλλά σαν σύστημα να μην είναι κατάλληλο. Συγκεκριμένα, τα αποτελέσματα είναι ακριβή, λόγω της περιοχής ευγλυκαιμίας, όπου πράγματι οι μετρήσεις είναι πολύ κοντά στις πραγματικές. Στις κρίσιμες περιοχές, όμως, στα κατώφλια της υπογλυκαιμίας και της ευγλυκαιμίας, έχουμε μη ικανοποιητικά αποτελέσματα για διαφορετικούς λόγους. Όσον αφορά την υπογλυκαιμία, το MARD ήταν κακό, αλλά η γραμμική συσχέτιση των μετρήσεων με τις πραγματικές τιμές ήταν μερικώς γραμμική. Από την άλλη, στην υπεργλυκαιμία ενω το MARD ήταν πολύ καλό, δεν υπήρχε γραμμική συσχέτιση των μετρήσεων με τις πραγματικές τιμές."
      ],
      "metadata": {
        "id": "tWtkikEsfUto"
      }
    },
    {
      "cell_type": "markdown",
      "source": [
        "Συγκεντρωτικά τα αποτελέσματα της ερώτησης 2: Περιοχή Υπογλυκαιμίας(<70 mg/dl)"
      ],
      "metadata": {
        "id": "vdM3whMOX29g"
      }
    },
    {
      "cell_type": "markdown",
      "source": [
        "metric | value\n",
        "--- | --- \n",
        "**Ευαισθησία** | `0.7993` \n",
        "**Ειδικότητα** | `0.9883`\n",
        "**Θετική Προγνωστική Αξία** | `0.9318`\n",
        "**Αρνητική Προγνωστική Αξία** | `0.9611`\n",
        "**Ακρίβεια** | `0.9570`\n"
      ],
      "metadata": {
        "id": "D7_mouYRX25X"
      }
    },
    {
      "cell_type": "markdown",
      "source": [
        "Ας εξετάσουμε αρχικά τι εκφράζει κάθε δείκτης:\n",
        "* Η ευαισθησία την πιθανότητα η μέτρηση να βρίσκεται στην περιοχή υπεργλυκαιμίας/υπογλυκαιμίας, όταν η πραγματική τιμή να βρίσκεται στην περιοχή υπεργλυκαιμίας/υπογλυκαιμίας, αντίστοιχα.\n",
        "* Η ειδικότητα την πιθανότητα η μέτρηση να μην βρίσκεται στην περιοχή υπεργλυκαιμίας/υπογλυκαιμίας, όταν η πραγματική τιμή δεν βρίσκεται στην περιοχή υπεργλυκαιμίας/υπογλυκαιμίας, αντίστοιχα.\n",
        "* Η θετική προγνωστική αξία την πιθανότητα η πραγματική τιμή να βρίσκεται στην περιοχή υπεργλυκαιμίας/υπογλυκαιμίας, όταν η μέτρηση βρίσκεται στην περιοχή υπεργλυκαιμίας/υπογλυκαιμίας, αντίστοιχα.\n",
        "* Η αρνητική προγνωστική αξία την πιθανότητα η πραγματική τιμή να μην βρίσκεται στην περιοχή υπεργλυκαιμίας/υπογλυκαιμίας, όταν η μέτρηση δεν βρίσκεται στην περιοχή υπεργλυκαιμίας/υπογλυκαιμίας, αντίστοιχα.\n",
        "* Η ακρίβεια το ποσοστό των σωστών μετρήσεων στην εξεταζόμενη περιοχή."
      ],
      "metadata": {
        "id": "2cLxJZ_EqN82"
      }
    },
    {
      "cell_type": "markdown",
      "source": [
        "Εδώ όλες οι μετρικές είναι σε μεγάλο βαθμό ικανοποιητικές, εκτός από την ευαισθησία. Αυτό σημαίνει ότι το σύστημά μας τυχαίνει να έχει αρκετά false negative αποτελέσματα, δηλαδή να μην εντοπίζει υπογλυκαιμικά/υπεργλυκαιμικά επεισόδια, όταν αυτά συμβαίνουν. Μάλιστα, αυτό έχει σχετικά μεγάλη πιθανότητα, οπότε χρήζει άμεσης αντιμετώπισης."
      ],
      "metadata": {
        "id": "BG6xc5SSo-rJ"
      }
    },
    {
      "cell_type": "code",
      "source": [
        "# ROC curve\n",
        "plt.plot(fpr,tpr)\n",
        "plt.ylabel('True Positive Rate')\n",
        "plt.xlabel('False Positive Rate')\n",
        "plt.show()"
      ],
      "metadata": {
        "colab": {
          "base_uri": "https://localhost:8080/",
          "height": 279
        },
        "id": "OYNE-eVjdYsX",
        "outputId": "d2ff9d5a-3d00-461b-8602-6c0836be3db1"
      },
      "execution_count": null,
      "outputs": [
        {
          "output_type": "display_data",
          "data": {
            "text/plain": [
              "<Figure size 432x288 with 1 Axes>"
            ],
            "image/png": "[encoded data removed]"
          },
          "metadata": {
            "needs_background": "light"
          }
        }
      ]
    },
    {
      "cell_type": "markdown",
      "source": [
        "Συγκεντρωτικά τα αποτελέσματα της ερώτησης 3: Περιοχή Υπεργλυκαιμίας(>180 mg/dl)"
      ],
      "metadata": {
        "id": "9d-zMk3TX2oc"
      }
    },
    {
      "cell_type": "markdown",
      "source": [
        "metric | value\n",
        "--- | --- \n",
        "**Ευαισθησία** | `0.7816` \n",
        "**Ειδικότητα** | `0.9714`\n",
        "**Θετική Προγνωστική Αξία** | `0.4945`\n",
        "**Αρνητική Προγνωστική Αξία** | `0.9920`\n",
        "**Ακρίβεια** | `0.9649`"
      ],
      "metadata": {
        "id": "6wunZuQqX2VJ"
      }
    },
    {
      "cell_type": "markdown",
      "source": [
        "Και εδώ η ευαισθησία στα αποτελέσματα του αισθητήρα πρέπει να διερευνηθεί. Πρέπει, επίσης, να δοθεί ιδιαίτερη έμφαση στην θετική προγνωστική αξία. Αυτό σημαίνει ότι το σύστημά μας τυχαίνει να έχει αρκετά false positive αποτελέσματα, δηλαδή να εντοπίζει υπογλυκαιμικά/υπεργλυκαιμικά επεισόδια, χωρίς αυτά να συμβαίνουν. Είναι απαραίτητο να γίνουν οι κατάλληλες βελτιώσεις, γιατί δεν ξέρουμε τι επιπλοκές μπορεί να προκύψουν για τον ασθενή, αφού η πιθανότητα να μπερδευτεί το σύστημα είναι δραματικά μεγάλη."
      ],
      "metadata": {
        "id": "Q4c-g_39gKQR"
      }
    },
    {
      "cell_type": "code",
      "source": [
        "#create ROC curve\n",
        "plt.plot(fpr2,tpr2)\n",
        "plt.ylabel('True Positive Rate')\n",
        "plt.xlabel('False Positive Rate')\n",
        "plt.show()"
      ],
      "metadata": {
        "colab": {
          "base_uri": "https://localhost:8080/",
          "height": 279
        },
        "id": "niWT_YsRdcNW",
        "outputId": "89602776-f226-4f72-99a0-a4095ec6c444"
      },
      "execution_count": null,
      "outputs": [
        {
          "output_type": "display_data",
          "data": {
            "text/plain": [
              "<Figure size 432x288 with 1 Axes>"
            ],
            "image/png": "[encoded data removed]"
          },
          "metadata": {
            "needs_background": "light"
          }
        }
      ]
    },
    {
      "cell_type": "markdown",
      "source": [
        "#### Σχολιασμός ROC καμπύλων"
      ],
      "metadata": {
        "id": "y28pz8tVa0_Q"
      }
    },
    {
      "cell_type": "markdown",
      "source": [
        "Ιδανικά, θα θέλαμε η καμπύλη να φτάνει στο 1 όσο πιο γρήγορα γίνεται, για να έχουμε το ακριβέστερο δυνατό μοντέλο. Αυτό ισχύει γιατί θα είχαμε ότι οι μετρήσεις στην σωστή περιοχή θα αυξανόντουσαν δραματικά όσο αυξάνονταν και οι μετρήσεις, χωρίς να αυξάνονται οι μετρήσεις σε λανθασμένη περιοχή. Η πορεία της καμπύλης φανερώνει ότι το μοντέλο μας έχει τάση να μετράει στην σωστή περιοχή τις μετρήσεις. Αναλογιζόμενοι, όμως, την κρισιμότητα να έχουμε ακριβείς μετρήσεις στα κατώφλια της υπογλυκαιμίας και υπεργλυκαιμίας, εξάγω το συμπέρασμα ότι το σύστημα χρήζει επιδιόρθωσης/αναβάθμισης."
      ],
      "metadata": {
        "id": "n9jvwaaya4e8"
      }
    },
    {
      "cell_type": "markdown",
      "source": [
        "#### Συμπεράσματα"
      ],
      "metadata": {
        "id": "gC2LlFBKkQeb"
      }
    },
    {
      "cell_type": "markdown",
      "source": [
        "Μετά την διεξαγωγή της μελέτης αυτής εξάγεται το συμπέρασμα ότι η ικανότητα του αισθητήρα συνεχούς καταγραφής γλυκόζης να ανιχνεύει τις υπογλυκαιμίες και τις υπεργλυκαιμίες δεν είναι επαρκής και αρκετά ακριβής. Το σύστημα χρήζει άμεσης αναβάθμισης και/ή επιδιόρθωσης, αφού στις κρίσιμες περιοχές οι μετρήσεις δεν είναι οι αναμενόμενες με σχετικά μεγάλη πιθανότητα, όπως έδειξε η πληθώρα δεικτών που εξετάστηκαν. Από την άλλη, η ταξινόμηση των μετρήσεων στην εκάστοτε περιοχή τιμών γλυκόζης φαίνεται να είναι ικανοποιητική από πολλές μετρικές, αλλά αξίζουν να εξεταστούν οι περιπτώσεις που δεν απέφεραν και τόσο ακριβή αποτελέσματα."
      ],
      "metadata": {
        "id": "xdPpfGEZkSiL"
      }
    }
  ]
}